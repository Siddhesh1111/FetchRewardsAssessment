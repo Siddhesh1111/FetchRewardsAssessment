{
 "cells": [
  {
   "cell_type": "markdown",
   "metadata": {},
   "source": [
    "# Fetch Rewards Coding Exercise - Data Analyst"
   ]
  },
  {
   "cell_type": "code",
   "execution_count": 24,
   "metadata": {},
   "outputs": [],
   "source": [
    "# importing all the required packages\n",
    "import os\n",
    "import json\n",
    "import gzip\n",
    "\n",
    "from urllib.request import urlopen\n",
    "\n",
    "# dataframe and series \n",
    "import pandas as pd\n",
    "import numpy as np\n",
    "from datetime import datetime, timedelta, date\n",
    "from datetime import *\n",
    "\n",
    "import matplotlib.pyplot as plt\n",
    "import seaborn as sns\n",
    "import plotly.express as px\n",
    "import matplotlib\n",
    "\n",
    "import warnings\n",
    "warnings.filterwarnings('ignore')\n",
    "\n",
    "import warnings\n",
    "warnings.filterwarnings(\"ignore\", category=DeprecationWarning)\n",
    "\n",
    "plt.style.use('fivethirtyeight')\n",
    "%matplotlib inline"
   ]
  },
  {
   "cell_type": "code",
   "execution_count": 25,
   "metadata": {},
   "outputs": [],
   "source": [
    "#%%\n",
    "#Setting Warnings Settings \n",
    "warnings.filterwarnings(action='once') \n",
    "pd.set_option('display.float_format', lambda x: '%.3f' % x) #display changed from scientific to numeric format\n",
    "pd.set_option('expand_frame_repr', False)"
   ]
  },
  {
   "cell_type": "code",
   "execution_count": 42,
   "metadata": {
    "scrolled": true
   },
   "outputs": [],
   "source": [
    "filelist = {\"usersdf\":\"users.json.gz\",\"receiptsdf\":\"receipts.json.gz\",\"brandsdf\":\"brands.json.gz\"}"
   ]
  },
  {
   "cell_type": "markdown",
   "metadata": {},
   "source": [
    "## Users data:  Conversion and formatting"
   ]
  },
  {
   "cell_type": "code",
   "execution_count": 44,
   "metadata": {},
   "outputs": [],
   "source": [
    "df_data = []\n",
    "with gzip.open(\"users.json.gz\") as data:\n",
    "    for i in data:\n",
    "        df_data.append(json.loads(i.strip()))\n",
    "    usersdf = pd.json_normalize(df_data)"
   ]
  },
  {
   "cell_type": "code",
   "execution_count": 49,
   "metadata": {},
   "outputs": [
    {
     "name": "stdout",
     "output_type": "stream",
     "text": [
      "<class 'pandas.core.frame.DataFrame'>\n",
      "RangeIndex: 495 entries, 0 to 494\n",
      "Data columns (total 7 columns):\n",
      " #   Column         Non-Null Count  Dtype  \n",
      "---  ------         --------------  -----  \n",
      " 0   active         495 non-null    bool   \n",
      " 1   role           495 non-null    object \n",
      " 2   signUpSource   447 non-null    object \n",
      " 3   state          439 non-null    object \n",
      " 4   user_id        495 non-null    object \n",
      " 5   createdDate    495 non-null    int64  \n",
      " 6   lastLoginDate  433 non-null    float64\n",
      "dtypes: bool(1), float64(1), int64(1), object(4)\n",
      "memory usage: 23.8+ KB\n"
     ]
    }
   ],
   "source": [
    "# Renaming the columns with correct format\n",
    "usersdf = usersdf.rename(columns={'_id.$oid':'user_id',\n",
    "                                  'createdDate.$date':'createdDate',\n",
    "                                  'lastLogin.$date':'lastLoginDate'}\n",
    "                        )\n",
    "usersdf.info()"
   ]
  },
  {
   "cell_type": "code",
   "execution_count": 55,
   "metadata": {},
   "outputs": [
    {
     "data": {
      "text/html": [
       "<div>\n",
       "<style scoped>\n",
       "    .dataframe tbody tr th:only-of-type {\n",
       "        vertical-align: middle;\n",
       "    }\n",
       "\n",
       "    .dataframe tbody tr th {\n",
       "        vertical-align: top;\n",
       "    }\n",
       "\n",
       "    .dataframe thead th {\n",
       "        text-align: right;\n",
       "    }\n",
       "</style>\n",
       "<table border=\"1\" class=\"dataframe\">\n",
       "  <thead>\n",
       "    <tr style=\"text-align: right;\">\n",
       "      <th></th>\n",
       "      <th>active</th>\n",
       "      <th>role</th>\n",
       "      <th>signUpSource</th>\n",
       "      <th>state</th>\n",
       "      <th>user_id</th>\n",
       "      <th>createdDate</th>\n",
       "      <th>lastLoginDate</th>\n",
       "    </tr>\n",
       "  </thead>\n",
       "  <tbody>\n",
       "    <tr>\n",
       "      <th>0</th>\n",
       "      <td>True</td>\n",
       "      <td>consumer</td>\n",
       "      <td>Email</td>\n",
       "      <td>WI</td>\n",
       "      <td>5ff1e194b6a9d73a3a9f1052</td>\n",
       "      <td>1970-01-01 00:26:49.687444800</td>\n",
       "      <td>1970-01-01 00:26:49.687537858</td>\n",
       "    </tr>\n",
       "    <tr>\n",
       "      <th>1</th>\n",
       "      <td>True</td>\n",
       "      <td>consumer</td>\n",
       "      <td>Email</td>\n",
       "      <td>WI</td>\n",
       "      <td>5ff1e194b6a9d73a3a9f1052</td>\n",
       "      <td>1970-01-01 00:26:49.687444800</td>\n",
       "      <td>1970-01-01 00:26:49.687537858</td>\n",
       "    </tr>\n",
       "  </tbody>\n",
       "</table>\n",
       "</div>"
      ],
      "text/plain": [
       "   active      role signUpSource state                   user_id                   createdDate                 lastLoginDate\n",
       "0    True  consumer        Email    WI  5ff1e194b6a9d73a3a9f1052 1970-01-01 00:26:49.687444800 1970-01-01 00:26:49.687537858\n",
       "1    True  consumer        Email    WI  5ff1e194b6a9d73a3a9f1052 1970-01-01 00:26:49.687444800 1970-01-01 00:26:49.687537858"
      ]
     },
     "execution_count": 55,
     "metadata": {},
     "output_type": "execute_result"
    }
   ],
   "source": [
    "# converting dates to correct datetime format\n",
    "usersdf['createdDate']=pd.to_datetime(usersdf['createdDate'], unit='ns')\n",
    "usersdf['lastLoginDate']=pd.to_datetime(usersdf['lastLoginDate'], unit='ns')\n",
    "usersdf.head(2)"
   ]
  },
  {
   "cell_type": "markdown",
   "metadata": {},
   "source": [
    "## Brands data:  Conversion and formatting"
   ]
  },
  {
   "cell_type": "code",
   "execution_count": 62,
   "metadata": {},
   "outputs": [],
   "source": [
    "df_data = []\n",
    "with gzip.open(\"brands.json.gz\") as data:\n",
    "    for i in data:\n",
    "        df_data.append(json.loads(i.strip()))\n",
    "    brandsdf = pd.json_normalize(df_data)"
   ]
  },
  {
   "cell_type": "code",
   "execution_count": 63,
   "metadata": {},
   "outputs": [
    {
     "data": {
      "text/html": [
       "<div>\n",
       "<style scoped>\n",
       "    .dataframe tbody tr th:only-of-type {\n",
       "        vertical-align: middle;\n",
       "    }\n",
       "\n",
       "    .dataframe tbody tr th {\n",
       "        vertical-align: top;\n",
       "    }\n",
       "\n",
       "    .dataframe thead th {\n",
       "        text-align: right;\n",
       "    }\n",
       "</style>\n",
       "<table border=\"1\" class=\"dataframe\">\n",
       "  <thead>\n",
       "    <tr style=\"text-align: right;\">\n",
       "      <th></th>\n",
       "      <th>barcode</th>\n",
       "      <th>category</th>\n",
       "      <th>categoryCode</th>\n",
       "      <th>name</th>\n",
       "      <th>topBrand</th>\n",
       "      <th>brand_id</th>\n",
       "      <th>cpg_id</th>\n",
       "      <th>cpg_ref</th>\n",
       "      <th>brandCode</th>\n",
       "    </tr>\n",
       "  </thead>\n",
       "  <tbody>\n",
       "    <tr>\n",
       "      <th>0</th>\n",
       "      <td>511111019862</td>\n",
       "      <td>Baking</td>\n",
       "      <td>BAKING</td>\n",
       "      <td>test brand @1612366101024</td>\n",
       "      <td>False</td>\n",
       "      <td>601ac115be37ce2ead437551</td>\n",
       "      <td>601ac114be37ce2ead437550</td>\n",
       "      <td>Cogs</td>\n",
       "      <td>NaN</td>\n",
       "    </tr>\n",
       "    <tr>\n",
       "      <th>1</th>\n",
       "      <td>511111519928</td>\n",
       "      <td>Beverages</td>\n",
       "      <td>BEVERAGES</td>\n",
       "      <td>Starbucks</td>\n",
       "      <td>False</td>\n",
       "      <td>601c5460be37ce2ead43755f</td>\n",
       "      <td>5332f5fbe4b03c9a25efd0ba</td>\n",
       "      <td>Cogs</td>\n",
       "      <td>STARBUCKS</td>\n",
       "    </tr>\n",
       "  </tbody>\n",
       "</table>\n",
       "</div>"
      ],
      "text/plain": [
       "        barcode   category categoryCode                       name topBrand                  brand_id                    cpg_id cpg_ref  brandCode\n",
       "0  511111019862     Baking       BAKING  test brand @1612366101024    False  601ac115be37ce2ead437551  601ac114be37ce2ead437550    Cogs        NaN\n",
       "1  511111519928  Beverages    BEVERAGES                  Starbucks    False  601c5460be37ce2ead43755f  5332f5fbe4b03c9a25efd0ba    Cogs  STARBUCKS"
      ]
     },
     "execution_count": 63,
     "metadata": {},
     "output_type": "execute_result"
    }
   ],
   "source": [
    "brandsdf=brandsdf.rename(columns={'_id.$oid':'brand_id',brandsdf.columns[6]: 'cpg_id','cpg.$ref' : 'cpg_ref'})\n",
    "brandsdf.head(2)"
   ]
  },
  {
   "cell_type": "markdown",
   "metadata": {},
   "source": [
    "## Receipts data:  Conversion and formatting"
   ]
  },
  {
   "cell_type": "code",
   "execution_count": 93,
   "metadata": {},
   "outputs": [
    {
     "data": {
      "text/html": [
       "<div>\n",
       "<style scoped>\n",
       "    .dataframe tbody tr th:only-of-type {\n",
       "        vertical-align: middle;\n",
       "    }\n",
       "\n",
       "    .dataframe tbody tr th {\n",
       "        vertical-align: top;\n",
       "    }\n",
       "\n",
       "    .dataframe thead th {\n",
       "        text-align: right;\n",
       "    }\n",
       "</style>\n",
       "<table border=\"1\" class=\"dataframe\">\n",
       "  <thead>\n",
       "    <tr style=\"text-align: right;\">\n",
       "      <th></th>\n",
       "      <th>bonusPointsEarned</th>\n",
       "      <th>bonusPointsEarnedReason</th>\n",
       "      <th>pointsEarned</th>\n",
       "      <th>purchasedItemCount</th>\n",
       "      <th>rewardsReceiptItemList</th>\n",
       "      <th>rewardsReceiptStatus</th>\n",
       "      <th>totalSpent</th>\n",
       "      <th>userId</th>\n",
       "      <th>_id.$oid</th>\n",
       "      <th>createDate.$date</th>\n",
       "      <th>dateScanned.$date</th>\n",
       "      <th>finishedDate.$date</th>\n",
       "      <th>modifyDate.$date</th>\n",
       "      <th>pointsAwardedDate.$date</th>\n",
       "      <th>purchaseDate.$date</th>\n",
       "    </tr>\n",
       "  </thead>\n",
       "  <tbody>\n",
       "    <tr>\n",
       "      <th>0</th>\n",
       "      <td>500.000</td>\n",
       "      <td>Receipt number 2 completed, bonus point schedu...</td>\n",
       "      <td>500.0</td>\n",
       "      <td>5.000</td>\n",
       "      <td>[{'barcode': '4011', 'description': 'ITEM NOT ...</td>\n",
       "      <td>FINISHED</td>\n",
       "      <td>26.00</td>\n",
       "      <td>5ff1e1eacfcf6c399c274ae6</td>\n",
       "      <td>5ff1e1eb0a720f0523000575</td>\n",
       "      <td>1609687531000</td>\n",
       "      <td>1609687531000</td>\n",
       "      <td>1609687531000.000</td>\n",
       "      <td>1609687536000</td>\n",
       "      <td>1609687531000.000</td>\n",
       "      <td>1609632000000.000</td>\n",
       "    </tr>\n",
       "    <tr>\n",
       "      <th>1</th>\n",
       "      <td>150.000</td>\n",
       "      <td>Receipt number 5 completed, bonus point schedu...</td>\n",
       "      <td>150.0</td>\n",
       "      <td>2.000</td>\n",
       "      <td>[{'barcode': '4011', 'description': 'ITEM NOT ...</td>\n",
       "      <td>FINISHED</td>\n",
       "      <td>11.00</td>\n",
       "      <td>5ff1e194b6a9d73a3a9f1052</td>\n",
       "      <td>5ff1e1bb0a720f052300056b</td>\n",
       "      <td>1609687483000</td>\n",
       "      <td>1609687483000</td>\n",
       "      <td>1609687483000.000</td>\n",
       "      <td>1609687488000</td>\n",
       "      <td>1609687483000.000</td>\n",
       "      <td>1609601083000.000</td>\n",
       "    </tr>\n",
       "  </tbody>\n",
       "</table>\n",
       "</div>"
      ],
      "text/plain": [
       "   bonusPointsEarned                            bonusPointsEarnedReason pointsEarned  purchasedItemCount                             rewardsReceiptItemList rewardsReceiptStatus totalSpent                    userId                  _id.$oid  createDate.$date  dateScanned.$date  finishedDate.$date  modifyDate.$date  pointsAwardedDate.$date  purchaseDate.$date\n",
       "0            500.000  Receipt number 2 completed, bonus point schedu...        500.0               5.000  [{'barcode': '4011', 'description': 'ITEM NOT ...             FINISHED      26.00  5ff1e1eacfcf6c399c274ae6  5ff1e1eb0a720f0523000575     1609687531000      1609687531000   1609687531000.000     1609687536000        1609687531000.000   1609632000000.000\n",
       "1            150.000  Receipt number 5 completed, bonus point schedu...        150.0               2.000  [{'barcode': '4011', 'description': 'ITEM NOT ...             FINISHED      11.00  5ff1e194b6a9d73a3a9f1052  5ff1e1bb0a720f052300056b     1609687483000      1609687483000   1609687483000.000     1609687488000        1609687483000.000   1609601083000.000"
      ]
     },
     "execution_count": 93,
     "metadata": {},
     "output_type": "execute_result"
    }
   ],
   "source": [
    "df_data = []\n",
    "with gzip.open(\"receipts.json.gz\") as data:\n",
    "    for i in data:\n",
    "        df_data.append(json.loads(i.strip()))\n",
    "    receiptsdf = pd.json_normalize(df_data)\n",
    "receiptsdf.head(2)"
   ]
  },
  {
   "cell_type": "code",
   "execution_count": 94,
   "metadata": {},
   "outputs": [],
   "source": [
    "receiptsdf=receiptsdf.rename(columns= {\n",
    "        '_id.$oid' : 'receiptId',\n",
    "        'createDate.$date' : 'receipt_createDate',\n",
    "        'dateScanned.$date' : 'receipt_ScannedDate',\n",
    "        'finishedDate.$date' : 'receipt_finishedDate',\n",
    "        'modifyDate.$date' : 'receipt_modifyDate',\n",
    "        'pointsAwardedDate.$date' : 'pointsAwardedDate',\n",
    "        'purchaseDate.$date' : 'purchaseDate'\n",
    "    \n",
    "})"
   ]
  },
  {
   "cell_type": "code",
   "execution_count": 95,
   "metadata": {},
   "outputs": [
    {
     "data": {
      "text/html": [
       "<div>\n",
       "<style scoped>\n",
       "    .dataframe tbody tr th:only-of-type {\n",
       "        vertical-align: middle;\n",
       "    }\n",
       "\n",
       "    .dataframe tbody tr th {\n",
       "        vertical-align: top;\n",
       "    }\n",
       "\n",
       "    .dataframe thead th {\n",
       "        text-align: right;\n",
       "    }\n",
       "</style>\n",
       "<table border=\"1\" class=\"dataframe\">\n",
       "  <thead>\n",
       "    <tr style=\"text-align: right;\">\n",
       "      <th></th>\n",
       "      <th>bonusPointsEarned</th>\n",
       "      <th>bonusPointsEarnedReason</th>\n",
       "      <th>pointsEarned</th>\n",
       "      <th>purchasedItemCount</th>\n",
       "      <th>rewardsReceiptItemList</th>\n",
       "      <th>rewardsReceiptStatus</th>\n",
       "      <th>totalSpent</th>\n",
       "      <th>userId</th>\n",
       "      <th>receiptId</th>\n",
       "      <th>receipt_createDate</th>\n",
       "      <th>receipt_ScannedDate</th>\n",
       "      <th>receipt_finishedDate</th>\n",
       "      <th>receipt_modifyDate</th>\n",
       "      <th>pointsAwardedDate</th>\n",
       "      <th>purchaseDate</th>\n",
       "    </tr>\n",
       "  </thead>\n",
       "  <tbody>\n",
       "    <tr>\n",
       "      <th>0</th>\n",
       "      <td>500.000</td>\n",
       "      <td>Receipt number 2 completed, bonus point schedu...</td>\n",
       "      <td>500.0</td>\n",
       "      <td>5.000</td>\n",
       "      <td>[{'barcode': '4011', 'description': 'ITEM NOT ...</td>\n",
       "      <td>FINISHED</td>\n",
       "      <td>26.00</td>\n",
       "      <td>5ff1e1eacfcf6c399c274ae6</td>\n",
       "      <td>5ff1e1eb0a720f0523000575</td>\n",
       "      <td>1970-01-01 00:26:49.687531</td>\n",
       "      <td>1970-01-01 00:26:49.687531</td>\n",
       "      <td>1970-01-01 00:26:49.687531</td>\n",
       "      <td>1970-01-01 00:26:49.687536</td>\n",
       "      <td>1970-01-01 00:26:49.687531</td>\n",
       "      <td>1970-01-01 00:26:49.632000</td>\n",
       "    </tr>\n",
       "    <tr>\n",
       "      <th>1</th>\n",
       "      <td>150.000</td>\n",
       "      <td>Receipt number 5 completed, bonus point schedu...</td>\n",
       "      <td>150.0</td>\n",
       "      <td>2.000</td>\n",
       "      <td>[{'barcode': '4011', 'description': 'ITEM NOT ...</td>\n",
       "      <td>FINISHED</td>\n",
       "      <td>11.00</td>\n",
       "      <td>5ff1e194b6a9d73a3a9f1052</td>\n",
       "      <td>5ff1e1bb0a720f052300056b</td>\n",
       "      <td>1970-01-01 00:26:49.687483</td>\n",
       "      <td>1970-01-01 00:26:49.687483</td>\n",
       "      <td>1970-01-01 00:26:49.687483</td>\n",
       "      <td>1970-01-01 00:26:49.687488</td>\n",
       "      <td>1970-01-01 00:26:49.687483</td>\n",
       "      <td>1970-01-01 00:26:49.601083</td>\n",
       "    </tr>\n",
       "  </tbody>\n",
       "</table>\n",
       "</div>"
      ],
      "text/plain": [
       "   bonusPointsEarned                            bonusPointsEarnedReason pointsEarned  purchasedItemCount                             rewardsReceiptItemList rewardsReceiptStatus totalSpent                    userId                 receiptId         receipt_createDate        receipt_ScannedDate       receipt_finishedDate         receipt_modifyDate          pointsAwardedDate               purchaseDate\n",
       "0            500.000  Receipt number 2 completed, bonus point schedu...        500.0               5.000  [{'barcode': '4011', 'description': 'ITEM NOT ...             FINISHED      26.00  5ff1e1eacfcf6c399c274ae6  5ff1e1eb0a720f0523000575 1970-01-01 00:26:49.687531 1970-01-01 00:26:49.687531 1970-01-01 00:26:49.687531 1970-01-01 00:26:49.687536 1970-01-01 00:26:49.687531 1970-01-01 00:26:49.632000\n",
       "1            150.000  Receipt number 5 completed, bonus point schedu...        150.0               2.000  [{'barcode': '4011', 'description': 'ITEM NOT ...             FINISHED      11.00  5ff1e194b6a9d73a3a9f1052  5ff1e1bb0a720f052300056b 1970-01-01 00:26:49.687483 1970-01-01 00:26:49.687483 1970-01-01 00:26:49.687483 1970-01-01 00:26:49.687488 1970-01-01 00:26:49.687483 1970-01-01 00:26:49.601083"
      ]
     },
     "execution_count": 95,
     "metadata": {},
     "output_type": "execute_result"
    }
   ],
   "source": [
    "# converting dates to the correct datetime format\n",
    "receiptsdf['receipt_createDate']=pd.to_datetime(receiptsdf['receipt_createDate'], unit='ns')\n",
    "receiptsdf['receipt_ScannedDate']=pd.to_datetime(receiptsdf['receipt_ScannedDate'], unit='ns')\n",
    "receiptsdf['receipt_finishedDate']=pd.to_datetime(receiptsdf['receipt_finishedDate'], unit='ns')\n",
    "receiptsdf['receipt_modifyDate']=pd.to_datetime(receiptsdf['receipt_modifyDate'], unit='ns')\n",
    "receiptsdf['pointsAwardedDate']=pd.to_datetime(receiptsdf['pointsAwardedDate'], unit='ns')\n",
    "receiptsdf['purchaseDate']=pd.to_datetime(receiptsdf['purchaseDate'], unit='ns')\n",
    "receiptsdf.head(2)"
   ]
  },
  {
   "cell_type": "markdown",
   "metadata": {},
   "source": [
    "## Conversion of nested JSON inside the Receipt data into a new df\n",
    "- There can be 2 approaches to flatten \"rewardsReceiptItemList\" nested JSON\n",
    "    - Converting current receiptdf to more granular version with multiple order quantities\n",
    "    - Create new Dataframe which will have all the order and quantity details"
   ]
  },
  {
   "cell_type": "code",
   "execution_count": 96,
   "metadata": {},
   "outputs": [
    {
     "data": {
      "text/plain": [
       "[{'barcode': '4011',\n",
       "  'description': 'ITEM NOT FOUND',\n",
       "  'finalPrice': '1',\n",
       "  'itemPrice': '1',\n",
       "  'partnerItemId': '1',\n",
       "  'quantityPurchased': 1},\n",
       " {'barcode': '028400642255',\n",
       "  'description': 'DORITOS TORTILLA CHIP SPICY SWEET CHILI REDUCED FAT BAG 1 OZ',\n",
       "  'finalPrice': '10.00',\n",
       "  'itemPrice': '10.00',\n",
       "  'needsFetchReview': True,\n",
       "  'needsFetchReviewReason': 'USER_FLAGGED',\n",
       "  'partnerItemId': '2',\n",
       "  'pointsNotAwardedReason': 'Action not allowed for user and CPG',\n",
       "  'pointsPayerId': '5332f5fbe4b03c9a25efd0ba',\n",
       "  'preventTargetGapPoints': True,\n",
       "  'quantityPurchased': 1,\n",
       "  'rewardsGroup': 'DORITOS SPICY SWEET CHILI SINGLE SERVE',\n",
       "  'rewardsProductPartnerId': '5332f5fbe4b03c9a25efd0ba',\n",
       "  'userFlaggedBarcode': '028400642255',\n",
       "  'userFlaggedDescription': 'DORITOS TORTILLA CHIP SPICY SWEET CHILI REDUCED FAT BAG 1 OZ',\n",
       "  'userFlaggedNewItem': True,\n",
       "  'userFlaggedPrice': '10.00',\n",
       "  'userFlaggedQuantity': 1}]"
      ]
     },
     "execution_count": 96,
     "metadata": {},
     "output_type": "execute_result"
    }
   ],
   "source": [
    "receiptsdf.rewardsReceiptItemList[1]"
   ]
  },
  {
   "cell_type": "code",
   "execution_count": 97,
   "metadata": {},
   "outputs": [
    {
     "name": "stdout",
     "output_type": "stream",
     "text": [
      "Total Records: 1119\n",
      "Null Records: 440\n"
     ]
    }
   ],
   "source": [
    "# Before conversion\n",
    "print(f'Total Records: {len(receiptsdf[\"rewardsReceiptItemList\"])}')\n",
    "print(f'Null Records: {receiptsdf[\"rewardsReceiptItemList\"].isnull().sum()}')"
   ]
  },
  {
   "cell_type": "code",
   "execution_count": 98,
   "metadata": {},
   "outputs": [],
   "source": [
    "receiptsdf['rewardsReceiptItemList']= receiptsdf['rewardsReceiptItemList'].replace(np.nan,0)"
   ]
  },
  {
   "cell_type": "code",
   "execution_count": 99,
   "metadata": {
    "scrolled": true
   },
   "outputs": [
    {
     "name": "stdout",
     "output_type": "stream",
     "text": [
      "Total Records: 1119\n",
      "Null Records: 0\n"
     ]
    }
   ],
   "source": [
    "# After conversion\n",
    "print(f'Total Records: {receiptsdf[\"rewardsReceiptItemList\"].count()}')\n",
    "print(f'Null Records: {receiptsdf[\"rewardsReceiptItemList\"].isnull().sum()}')"
   ]
  },
  {
   "cell_type": "markdown",
   "metadata": {},
   "source": [
    "### Creating new dataframe Ordersdf which has all the products and quantity along with the prices for each item"
   ]
  },
  {
   "cell_type": "code",
   "execution_count": 100,
   "metadata": {},
   "outputs": [
    {
     "data": {
      "text/html": [
       "<div>\n",
       "<style scoped>\n",
       "    .dataframe tbody tr th:only-of-type {\n",
       "        vertical-align: middle;\n",
       "    }\n",
       "\n",
       "    .dataframe tbody tr th {\n",
       "        vertical-align: top;\n",
       "    }\n",
       "\n",
       "    .dataframe thead th {\n",
       "        text-align: right;\n",
       "    }\n",
       "</style>\n",
       "<table border=\"1\" class=\"dataframe\">\n",
       "  <thead>\n",
       "    <tr style=\"text-align: right;\">\n",
       "      <th></th>\n",
       "      <th>barcode</th>\n",
       "      <th>description</th>\n",
       "      <th>finalPrice</th>\n",
       "      <th>itemPrice</th>\n",
       "      <th>needsFetchReview</th>\n",
       "      <th>partnerItemId</th>\n",
       "      <th>preventTargetGapPoints</th>\n",
       "      <th>quantityPurchased</th>\n",
       "      <th>userFlaggedBarcode</th>\n",
       "      <th>userFlaggedNewItem</th>\n",
       "      <th>...</th>\n",
       "      <th>itemNumber</th>\n",
       "      <th>originalMetaBriteQuantityPurchased</th>\n",
       "      <th>pointsEarned</th>\n",
       "      <th>targetPrice</th>\n",
       "      <th>competitiveProduct</th>\n",
       "      <th>originalFinalPrice</th>\n",
       "      <th>originalMetaBriteItemPrice</th>\n",
       "      <th>deleted</th>\n",
       "      <th>priceAfterCoupon</th>\n",
       "      <th>metabriteCampaignId</th>\n",
       "    </tr>\n",
       "  </thead>\n",
       "  <tbody>\n",
       "    <tr>\n",
       "      <th>0</th>\n",
       "      <td>4011</td>\n",
       "      <td>ITEM NOT FOUND</td>\n",
       "      <td>26.00</td>\n",
       "      <td>26.00</td>\n",
       "      <td>False</td>\n",
       "      <td>1</td>\n",
       "      <td>True</td>\n",
       "      <td>5.000</td>\n",
       "      <td>4011</td>\n",
       "      <td>True</td>\n",
       "      <td>...</td>\n",
       "      <td>NaN</td>\n",
       "      <td>nan</td>\n",
       "      <td>NaN</td>\n",
       "      <td>NaN</td>\n",
       "      <td>NaN</td>\n",
       "      <td>NaN</td>\n",
       "      <td>NaN</td>\n",
       "      <td>NaN</td>\n",
       "      <td>NaN</td>\n",
       "      <td>NaN</td>\n",
       "    </tr>\n",
       "    <tr>\n",
       "      <th>1</th>\n",
       "      <td>4011</td>\n",
       "      <td>ITEM NOT FOUND</td>\n",
       "      <td>1</td>\n",
       "      <td>1</td>\n",
       "      <td>NaN</td>\n",
       "      <td>1</td>\n",
       "      <td>NaN</td>\n",
       "      <td>1.000</td>\n",
       "      <td>NaN</td>\n",
       "      <td>NaN</td>\n",
       "      <td>...</td>\n",
       "      <td>NaN</td>\n",
       "      <td>nan</td>\n",
       "      <td>NaN</td>\n",
       "      <td>NaN</td>\n",
       "      <td>NaN</td>\n",
       "      <td>NaN</td>\n",
       "      <td>NaN</td>\n",
       "      <td>NaN</td>\n",
       "      <td>NaN</td>\n",
       "      <td>NaN</td>\n",
       "    </tr>\n",
       "  </tbody>\n",
       "</table>\n",
       "<p>2 rows × 35 columns</p>\n",
       "</div>"
      ],
      "text/plain": [
       "  barcode     description finalPrice itemPrice needsFetchReview partnerItemId preventTargetGapPoints  quantityPurchased userFlaggedBarcode userFlaggedNewItem  ... itemNumber  originalMetaBriteQuantityPurchased pointsEarned targetPrice competitiveProduct originalFinalPrice originalMetaBriteItemPrice deleted priceAfterCoupon metabriteCampaignId\n",
       "0    4011  ITEM NOT FOUND      26.00     26.00            False             1                   True              5.000               4011               True  ...        NaN                                 nan          NaN         NaN                NaN                NaN                        NaN     NaN              NaN                 NaN\n",
       "1    4011  ITEM NOT FOUND          1         1              NaN             1                    NaN              1.000                NaN                NaN  ...        NaN                                 nan          NaN         NaN                NaN                NaN                        NaN     NaN              NaN                 NaN\n",
       "\n",
       "[2 rows x 35 columns]"
      ]
     },
     "execution_count": 100,
     "metadata": {},
     "output_type": "execute_result"
    }
   ],
   "source": [
    "counter=1\n",
    "receipt_ids=[]\n",
    "data=[]\n",
    "for i in range(len(receiptsdf.rewardsReceiptItemList)):\n",
    "    if receiptsdf.rewardsReceiptItemList[i] != 0:\n",
    "        for items in receiptsdf.rewardsReceiptItemList[i]:\n",
    "            items['receipt_id']=str(counter)\n",
    "            data.append(items)\n",
    "        receipt_ids.append(items['receipt_id'])\n",
    "        counter+=1\n",
    "    else:\n",
    "        receipt_ids.append('0')\n",
    "\n",
    "Ordersdf=pd.DataFrame.from_dict(data)\n",
    "Ordersdf.head(2)"
   ]
  },
  {
   "cell_type": "code",
   "execution_count": 101,
   "metadata": {},
   "outputs": [],
   "source": [
    "# removing nested JSON from receipts dataframe: \"rewardsReceiptItemList\"\n",
    "receiptsdf.drop(columns=['rewardsReceiptItemList'],inplace=True)"
   ]
  },
  {
   "cell_type": "markdown",
   "metadata": {},
   "source": [
    "# Q.3: Evaluate Data Quality Issues in the Data Provided\n",
    "identify at least one data quality issue. "
   ]
  },
  {
   "cell_type": "markdown",
   "metadata": {},
   "source": [
    "## Step01: Null Check for all the dataframes"
   ]
  },
  {
   "cell_type": "markdown",
   "metadata": {},
   "source": [
    "### User dataframe ( Primary key: user_id)"
   ]
  },
  {
   "cell_type": "code",
   "execution_count": 113,
   "metadata": {},
   "outputs": [
    {
     "name": "stdout",
     "output_type": "stream",
     "text": [
      "Total records: 495\n"
     ]
    },
    {
     "data": {
      "text/plain": [
       "active            0\n",
       "role              0\n",
       "signUpSource     48\n",
       "state            56\n",
       "user_id           0\n",
       "createdDate       0\n",
       "lastLoginDate    62\n",
       "dtype: int64"
      ]
     },
     "execution_count": 113,
     "metadata": {},
     "output_type": "execute_result"
    }
   ],
   "source": [
    "print(f'Total records: {len(usersdf)}')\n",
    "usersdf.isnull().sum()"
   ]
  },
  {
   "cell_type": "markdown",
   "metadata": {},
   "source": [
    "In Users dataframe, **user_id is the unique and has 0 NULL records** but found missing values in the 2 key columns:\n",
    "- **state**: region level insights \n",
    "- **signupSource**: user acquisition funnel - retention analysis\n",
    "- **lastLoginDate**: last login date helps to create churn analysis"
   ]
  },
  {
   "cell_type": "code",
   "execution_count": 125,
   "metadata": {},
   "outputs": [
    {
     "name": "stdout",
     "output_type": "stream",
     "text": [
      "Percentage missing in SignUpsource: 9.7\n",
      "Percentage missing in State: 11.31\n"
     ]
    }
   ],
   "source": [
    "# Percentage Missing \n",
    "print(f\"Percentage missing in SignUpsource: {round(usersdf['signUpSource'].isnull().sum()/len(usersdf['signUpSource']) * 100,2)}\")\n",
    "print(f\"Percentage missing in State: {round(usersdf['state'].isnull().sum()/len(usersdf['state']) * 100,2)}\")\n"
   ]
  },
  {
   "cell_type": "markdown",
   "metadata": {},
   "source": [
    "### Brands dataframe"
   ]
  },
  {
   "cell_type": "code",
   "execution_count": 127,
   "metadata": {},
   "outputs": [
    {
     "name": "stdout",
     "output_type": "stream",
     "text": [
      "Total records: 1167\n"
     ]
    },
    {
     "data": {
      "text/plain": [
       "barcode           0\n",
       "category        155\n",
       "categoryCode    650\n",
       "name              0\n",
       "topBrand        612\n",
       "brand_id          0\n",
       "cpg_id            0\n",
       "cpg_ref           0\n",
       "brandCode       234\n",
       "dtype: int64"
      ]
     },
     "execution_count": 127,
     "metadata": {},
     "output_type": "execute_result"
    }
   ],
   "source": [
    "print(f'Total records: {len(brandsdf)}')\n",
    "brandsdf.isnull().sum()"
   ]
  },
  {
   "cell_type": "markdown",
   "metadata": {},
   "source": [
    "In Brands dataframe, **brand_id is the unique and has 0 NULL records** but found missing values in the 3 key columns:\n",
    "- **categoryCode**\n",
    "- **category**\n",
    "- **topBrand**"
   ]
  },
  {
   "cell_type": "code",
   "execution_count": 140,
   "metadata": {
    "scrolled": true
   },
   "outputs": [
    {
     "name": "stdout",
     "output_type": "stream",
     "text": [
      "Percentage missing in categoryCode: 55.7\n",
      "Percentage missing in category: 13.28\n",
      "Percentage missing in topBrand: 52.44\n"
     ]
    }
   ],
   "source": [
    "# Percentage Missing \n",
    "print(f\"Percentage missing in categoryCode: {round(brandsdf['categoryCode'].isnull().sum()/len(brandsdf['categoryCode']) * 100,2)}\")\n",
    "print(f\"Percentage missing in category: {round(brandsdf['category'].isnull().sum()/len(brandsdf['category']) * 100,2)}\")\n",
    "print(f\"Percentage missing in topBrand: {round(brandsdf['topBrand'].isnull().sum()/len(brandsdf['topBrand']) * 100,2)}\")\n"
   ]
  },
  {
   "cell_type": "markdown",
   "metadata": {},
   "source": [
    "Found 52% of top brands boolean data missing"
   ]
  },
  {
   "cell_type": "code",
   "execution_count": 151,
   "metadata": {},
   "outputs": [
    {
     "name": "stdout",
     "output_type": "stream",
     "text": [
      "Total records: 1167\n",
      "Missing: 612\n"
     ]
    },
    {
     "data": {
      "text/plain": [
       "topBrand\n",
       "False    524\n",
       "True      31\n",
       "Name: brand_id, dtype: int64"
      ]
     },
     "execution_count": 151,
     "metadata": {},
     "output_type": "execute_result"
    }
   ],
   "source": [
    "print(f'Total records: {len(brandsdf[\"topBrand\"])}')\n",
    "print(f'Missing: {brandsdf[\"topBrand\"].isnull().sum()}')\n",
    "brandsdf.groupby('topBrand')['brand_id'].count()"
   ]
  },
  {
   "cell_type": "markdown",
   "metadata": {},
   "source": [
    "### Receipts dataframe"
   ]
  },
  {
   "cell_type": "code",
   "execution_count": 152,
   "metadata": {},
   "outputs": [
    {
     "name": "stdout",
     "output_type": "stream",
     "text": [
      "Total records: 1119\n"
     ]
    },
    {
     "data": {
      "text/plain": [
       "bonusPointsEarned          575\n",
       "bonusPointsEarnedReason    575\n",
       "pointsEarned               510\n",
       "purchasedItemCount         484\n",
       "rewardsReceiptStatus         0\n",
       "totalSpent                 435\n",
       "userId                       0\n",
       "receiptId                    0\n",
       "receipt_createDate           0\n",
       "receipt_ScannedDate          0\n",
       "receipt_finishedDate       551\n",
       "receipt_modifyDate           0\n",
       "pointsAwardedDate          582\n",
       "purchaseDate               448\n",
       "dtype: int64"
      ]
     },
     "execution_count": 152,
     "metadata": {},
     "output_type": "execute_result"
    }
   ],
   "source": [
    "print(f'Total records: {len(receiptsdf)}')\n",
    "receiptsdf.isnull().sum()"
   ]
  },
  {
   "cell_type": "markdown",
   "metadata": {},
   "source": [
    "In receipts dataframe, **receiptId is the primary key(unique) and has 0 NULL records** "
   ]
  },
  {
   "cell_type": "markdown",
   "metadata": {},
   "source": [
    "# Converting to csv for further analysis"
   ]
  },
  {
   "cell_type": "code",
   "execution_count": 154,
   "metadata": {},
   "outputs": [],
   "source": [
    "usersdf.to_csv('users.csv',index=False)\n",
    "brandsdf.to_csv('brands.csv',index=False)\n",
    "receiptsdf.to_csv('receipts.csv',index=False)\n",
    "Ordersdf.to_csv('receipt_orders.csv',index=False)"
   ]
  },
  {
   "cell_type": "code",
   "execution_count": null,
   "metadata": {},
   "outputs": [],
   "source": []
  },
  {
   "cell_type": "markdown",
   "metadata": {},
   "source": [
    "# Flaws"
   ]
  },
  {
   "cell_type": "markdown",
   "metadata": {},
   "source": [
    "1. When considering average spend from receipts with 'rewardsReceiptStatus’ of ‘Accepted’ or ‘Rejected’, which is greater?\n",
    "\n",
    "-> There is no'Accepted' or 'Rejected' status in the 'rewardsReceiptStatus'. It has below mentioned 5 status with the count of those records\n",
    "- FINISHED     518\n",
    "- SUBMITTED    434\n",
    "- REJECTED      71\n",
    "- PENDING       50\n",
    "- FLAGGED       46\n"
   ]
  },
  {
   "cell_type": "code",
   "execution_count": 155,
   "metadata": {},
   "outputs": [
    {
     "data": {
      "text/plain": [
       "FINISHED     518\n",
       "SUBMITTED    434\n",
       "REJECTED      71\n",
       "PENDING       50\n",
       "FLAGGED       46\n",
       "Name: rewardsReceiptStatus, dtype: int64"
      ]
     },
     "execution_count": 155,
     "metadata": {},
     "output_type": "execute_result"
    }
   ],
   "source": [
    "receiptsdf.rewardsReceiptStatus.value_counts()"
   ]
  },
  {
   "cell_type": "code",
   "execution_count": null,
   "metadata": {},
   "outputs": [],
   "source": []
  },
  {
   "cell_type": "code",
   "execution_count": null,
   "metadata": {},
   "outputs": [],
   "source": []
  }
 ],
 "metadata": {
  "kernelspec": {
   "display_name": "Python 3 (ipykernel)",
   "language": "python",
   "name": "python3"
  },
  "language_info": {
   "codemirror_mode": {
    "name": "ipython",
    "version": 3
   },
   "file_extension": ".py",
   "mimetype": "text/x-python",
   "name": "python",
   "nbconvert_exporter": "python",
   "pygments_lexer": "ipython3",
   "version": "3.8.5"
  }
 },
 "nbformat": 4,
 "nbformat_minor": 4
}
